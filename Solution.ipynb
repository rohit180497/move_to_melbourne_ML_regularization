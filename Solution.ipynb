{
 "cells": [
  {
   "cell_type": "code",
   "execution_count": 2,
   "metadata": {},
   "outputs": [],
   "source": [
    "# import the modules\n",
    "\n",
    "import numpy as np\n",
    "import pandas as pd\n",
    "from sklearn.model_selection import train_test_split\n",
    "import matplotlib.pyplot as plt\n",
    "from sklearn.linear_model import LinearRegression\n",
    "from sklearn.metrics import r2_score\n",
    "from sklearn.linear_model import Lasso\n",
    "from sklearn.linear_model import Ridge\n",
    "from sklearn.model_selection import cross_val_score\n",
    "from sklearn.preprocessing import PolynomialFeatures\n",
    "from sklearn.pipeline import make_pipeline\n"
   ]
  },
  {
   "cell_type": "markdown",
   "metadata": {},
   "source": [
    "### Load the dataset\n",
    "\n",
    "- Load the train data and using all your knowledge of pandas try to explore the different statistical properties like correlation of the dataset."
   ]
  },
  {
   "cell_type": "code",
   "execution_count": 3,
   "metadata": {},
   "outputs": [
    {
     "name": "stdout",
     "output_type": "stream",
     "text": [
      "Shape of the train data is:  (4781, 17)\n",
      "\n",
      "Statistical Properties of the train data are as follows: \n",
      "                Id        Rooms         Type         Price       Method  \\\n",
      "count  4781.000000  4781.000000  4781.000000  4.781000e+03  4781.000000   \n",
      "mean   3432.481908     2.964861     0.540473  1.080936e+06     1.441330   \n",
      "std    1953.488159     0.957911     0.837337  6.757098e+05     1.141898   \n",
      "min       0.000000     1.000000     0.000000  1.450000e+05     0.000000   \n",
      "25%    1757.000000     2.000000     0.000000  6.300000e+05     1.000000   \n",
      "50%    3434.000000     3.000000     0.000000  9.000000e+05     1.000000   \n",
      "75%    5126.000000     4.000000     1.000000  1.337000e+06     1.000000   \n",
      "max    6829.000000     8.000000     2.000000  9.000000e+06     4.000000   \n",
      "\n",
      "           SellerG     Distance     Postcode     Bathroom          Car  \\\n",
      "count  4781.000000  4781.000000  4781.000000  4781.000000  4781.000000   \n",
      "mean    131.485254    10.045367  3103.308931     1.587952     1.605522   \n",
      "std      77.203630     5.871496    87.538064     0.711276     0.946698   \n",
      "min       2.000000     0.000000  3000.000000     1.000000     0.000000   \n",
      "25%      73.000000     6.100000  3044.000000     1.000000     1.000000   \n",
      "50%     135.000000     9.200000  3083.000000     1.000000     2.000000   \n",
      "75%     194.000000    13.000000  3147.000000     2.000000     2.000000   \n",
      "max     267.000000    47.300000  3977.000000     8.000000    10.000000   \n",
      "\n",
      "           Landsize  BuildingArea    YearBuilt  CouncilArea   Longtitude  \\\n",
      "count   4781.000000   4781.000000  4781.000000  4781.000000  4781.000000   \n",
      "mean     480.500105    143.157231  1964.338423    13.609705   144.991934   \n",
      "std      899.489722     91.438501    38.064151    10.389644     0.103051   \n",
      "min        0.000000      0.000000  1196.000000    -1.000000   144.545320   \n",
      "25%      168.000000     94.000000  1940.000000     2.000000   144.927270   \n",
      "50%      411.000000    126.000000  1970.000000    15.000000   144.997500   \n",
      "75%      638.000000    172.000000  2000.000000    23.000000   145.055720   \n",
      "max    37000.000000   3112.000000  2018.000000    32.000000   145.445300   \n",
      "\n",
      "        Regionname  Propertycount  \n",
      "count  4781.000000    4781.000000  \n",
      "mean      3.772223    7477.201213  \n",
      "std       2.024068    4395.746550  \n",
      "min       0.000000     389.000000  \n",
      "25%       2.000000    4380.000000  \n",
      "50%       5.000000    6567.000000  \n",
      "75%       5.000000   10331.000000  \n",
      "max       7.000000   21650.000000  \n",
      "\n",
      "Skewness for the different features is as shown below: \n",
      "Rooms             0.208722\n",
      "Type              1.029247\n",
      "Price             2.429553\n",
      "Method            1.071776\n",
      "SellerG           0.129703\n",
      "Distance          1.674962\n",
      "Postcode          3.921342\n",
      "Bathroom          1.328302\n",
      "Car               1.532654\n",
      "Landsize         21.066059\n",
      "BuildingArea      8.885376\n",
      "YearBuilt        -2.135044\n",
      "CouncilArea       0.033060\n",
      "Longtitude       -0.270886\n",
      "Regionname       -0.498197\n",
      "Propertycount     1.039731\n",
      "dtype: float64\n"
     ]
    },
    {
     "data": {
      "image/png": "[encoded data removed]",
      "text/plain": [
       "<Figure size 432x288 with 1 Axes>"
      ]
     },
     "metadata": {
      "needs_background": "light"
     },
     "output_type": "display_data"
    }
   ],
   "source": [
    "# read the dataset and extract the features and target separately\n",
    "\n",
    "# Load the train data\n",
    "train = pd.read_csv(r'/Users/rahulkosamkar/Documents/Data_Science/Projects/move_to melbourne_ML_regularization/train.csv')\n",
    "\n",
    "# Shape of the data\n",
    "print('Shape of the train data is: ',train.shape)\n",
    "\n",
    "print()\n",
    "\n",
    "# Statistical properties of the data.\n",
    "print('Statistical Properties of the train data are as follows: ')\n",
    "print(train.describe())\n",
    "\n",
    "# Drop the Id.\n",
    "train.drop('Id',axis=1,inplace=True)\n",
    "\n",
    "# Checking for the distribution of the target\n",
    "train['Price'].value_counts().plot(kind='bar')\n",
    "plt.title('Class Distribution of target')\n",
    "plt.xlabel('Price')\n",
    "plt.ylabel('Distribution')\n",
    "\n",
    "print()\n",
    "\n",
    "# Checking for skewness in the features\n",
    "print('Skewness for the different features is as shown below: ')\n",
    "print(train.skew())\n",
    "\n",
    "\n",
    "# Code ends here."
   ]
  },
  {
   "cell_type": "markdown",
   "metadata": {},
   "source": [
    "### EDA & Data Preprocessing\n",
    "\n",
    "- The target is the only categorical feature consisting of 7 classes and all the other features are continuous. \n",
    "- Check out the best plots for plotting between categorical target and continuous features and try making some inferences from these plots. "
   ]
  },
  {
   "cell_type": "code",
   "execution_count": 5,
   "metadata": {},
   "outputs": [
    {
     "name": "stdout",
     "output_type": "stream",
     "text": [
      "                  Rooms      Type     Price    Method   SellerG  Distance  \\\n",
      "Rooms          1.000000 -0.590817  0.523579 -0.053525 -0.029506  0.289699   \n",
      "Type          -0.590817  1.000000 -0.426876  0.088308  0.026955 -0.242188   \n",
      "Price          0.523579 -0.426876  1.000000 -0.048165 -0.065393 -0.158197   \n",
      "Method        -0.053525  0.088308 -0.048165  1.000000 -0.008889 -0.064479   \n",
      "SellerG       -0.029506  0.026955 -0.065393 -0.008889  1.000000  0.024476   \n",
      "Distance       0.289699 -0.242188 -0.158197 -0.064479  0.024476  1.000000   \n",
      "Postcode       0.050753  0.018737  0.120166 -0.034679 -0.001913  0.414110   \n",
      "Bathroom       0.607276 -0.276890  0.493173 -0.013801 -0.034939  0.114934   \n",
      "Car            0.420030 -0.278868  0.237160 -0.019285 -0.000271  0.257264   \n",
      "Landsize       0.092030 -0.043433  0.072753 -0.021601 -0.028470  0.063563   \n",
      "BuildingArea   0.595395 -0.386768  0.519207 -0.048287 -0.042596  0.145823   \n",
      "YearBuilt     -0.056373  0.304479 -0.297060  0.021274 -0.000680  0.252163   \n",
      "CouncilArea   -0.207234  0.159736 -0.119382  0.018771 -0.002784 -0.280674   \n",
      "Longtitude     0.095944  0.000434  0.217738 -0.059914 -0.061029  0.210853   \n",
      "Regionname    -0.009092  0.055988  0.083803  0.033184  0.023397 -0.089077   \n",
      "Propertycount -0.106854  0.111803 -0.052399 -0.024244  0.063498 -0.063805   \n",
      "\n",
      "               Postcode  Bathroom       Car  Landsize  BuildingArea  \\\n",
      "Rooms          0.050753  0.607276  0.420030  0.092030      0.595395   \n",
      "Type           0.018737 -0.276890 -0.278868 -0.043433     -0.386768   \n",
      "Price          0.120166  0.493173  0.237160  0.072753      0.519207   \n",
      "Method        -0.034679 -0.013801 -0.019285 -0.021601     -0.048287   \n",
      "SellerG       -0.001913 -0.034939 -0.000271 -0.028470     -0.042596   \n",
      "Distance       0.414110  0.114934  0.257264  0.063563      0.145823   \n",
      "Postcode       1.000000  0.088003  0.024650  0.030973      0.062701   \n",
      "Bathroom       0.088003  1.000000  0.325872  0.080768      0.525465   \n",
      "Car            0.024650  0.325872  1.000000  0.112280      0.318675   \n",
      "Landsize       0.030973  0.080768  0.112280  1.000000      0.081878   \n",
      "BuildingArea   0.062701  0.525465  0.318675  0.081878      1.000000   \n",
      "YearBuilt      0.027168  0.162484  0.108676  0.032836      0.014778   \n",
      "CouncilArea   -0.059066 -0.102732 -0.164842 -0.049492     -0.165966   \n",
      "Longtitude     0.423931  0.109001  0.048052  0.039890      0.105596   \n",
      "Regionname     0.006935  0.037968  0.005941 -0.012608      0.033615   \n",
      "Propertycount  0.058458 -0.058078 -0.032157 -0.019397     -0.071308   \n",
      "\n",
      "               YearBuilt  CouncilArea  Longtitude  Regionname  Propertycount  \n",
      "Rooms          -0.056373    -0.207234    0.095944   -0.009092      -0.106854  \n",
      "Type            0.304479     0.159736    0.000434    0.055988       0.111803  \n",
      "Price          -0.297060    -0.119382    0.217738    0.083803      -0.052399  \n",
      "Method          0.021274     0.018771   -0.059914    0.033184      -0.024244  \n",
      "SellerG        -0.000680    -0.002784   -0.061029    0.023397       0.063498  \n",
      "Distance        0.252163    -0.280674    0.210853   -0.089077      -0.063805  \n",
      "Postcode        0.027168    -0.059066    0.423931    0.006935       0.058458  \n",
      "Bathroom        0.162484    -0.102732    0.109001    0.037968      -0.058078  \n",
      "Car             0.108676    -0.164842    0.048052    0.005941      -0.032157  \n",
      "Landsize        0.032836    -0.049492    0.039890   -0.012608      -0.019397  \n",
      "BuildingArea    0.014778    -0.165966    0.105596    0.033615      -0.071308  \n",
      "YearBuilt       1.000000    -0.065787   -0.009848   -0.014789       0.015524  \n",
      "CouncilArea    -0.065787     1.000000   -0.159771   -0.046359       0.017378  \n",
      "Longtitude     -0.009848    -0.159771    1.000000   -0.480664       0.045455  \n",
      "Regionname     -0.014789    -0.046359   -0.480664    1.000000      -0.141699  \n",
      "Propertycount   0.015524     0.017378    0.045455   -0.141699       1.000000  \n"
     ]
    }
   ],
   "source": [
    "\n",
    "#Code starts here\n",
    "\n",
    "\n",
    "\n",
    "# check correlation\n",
    "corr=train.corr()\n",
    "\n",
    "# print correlation\n",
    "print(corr)\n",
    "\n",
    "#Code ends here\n",
    "\n"
   ]
  },
  {
   "cell_type": "markdown",
   "metadata": {},
   "source": [
    "## Model building\n",
    "\n",
    "- Separate the features and target and then split the train data into train and validation set.\n",
    "- Apply different models of your choice and  then predict on the validation data and find the `accuracy_score` for this prediction.\n",
    "- Try improving upon the `accuracy_score` using different regularization techniques."
   ]
  },
  {
   "cell_type": "code",
   "execution_count": 6,
   "metadata": {},
   "outputs": [
    {
     "name": "stdout",
     "output_type": "stream",
     "text": [
      "0.6709784755252334\n"
     ]
    }
   ],
   "source": [
    "# Code starts here\n",
    "#Indepenent varibles\n",
    "X = train.drop('Price',axis=1)\n",
    "\n",
    "# store dependent variable\n",
    "y = train['Price']\n",
    "\n",
    "# spliting the dataframe\n",
    "\n",
    "X_train,X_val,y_train,y_val=train_test_split(X,y ,test_size=0.3,random_state=8)\n",
    "\n",
    "#Instantiate linear regression model\n",
    "regressor=LinearRegression()\n",
    "\n",
    "# fit the model\n",
    "regressor.fit(X_train,y_train)\n",
    "\n",
    "# predict the result\n",
    "y_pred =regressor.predict(X_val)\n",
    "\n",
    "\n",
    "# Calculate r2_score\n",
    "r2 = r2_score(y_val, y_pred)\n",
    "\n",
    "#print r2\n",
    "print(r2)\n",
    "\n",
    "# Code ends here"
   ]
  },
  {
   "cell_type": "code",
   "execution_count": 7,
   "metadata": {},
   "outputs": [
    {
     "name": "stdout",
     "output_type": "stream",
     "text": [
      "0.670978141417017\n"
     ]
    }
   ],
   "source": [
    "# Predict the price of the house using a lasso regressor. Check if there is any improvement in the prediction.\n",
    "\n",
    "# instantiate lasso model\n",
    "lasso = Lasso()\n",
    "\n",
    "# fit and predict\n",
    "lasso.fit(X_train, y_train)\n",
    "lasso_pred = lasso.predict(X_val)\n",
    "\n",
    "# calculate RMSE\n",
    "r2_lasso = r2_score(y_val, lasso_pred)\n",
    "print (r2_lasso)\n"
   ]
  },
  {
   "cell_type": "code",
   "execution_count": 8,
   "metadata": {},
   "outputs": [
    {
     "name": "stdout",
     "output_type": "stream",
     "text": [
      "0.670765209066022\n"
     ]
    }
   ],
   "source": [
    "# Let's check the house price prediction using a ridge regressor.\n",
    "\n",
    "# instantiate lasso model\n",
    "ridge = Ridge()\n",
    "\n",
    "# fit and predict\n",
    "ridge.fit(X_train, y_train)\n",
    "ridge_pred = ridge.predict(X_val)\n",
    "\n",
    "# calculate RMSE)\n",
    "r2_ridge = r2_score(y_val, ridge_pred)\n",
    "print (r2_ridge)\n"
   ]
  },
  {
   "cell_type": "code",
   "execution_count": 9,
   "metadata": {},
   "outputs": [
    {
     "name": "stdout",
     "output_type": "stream",
     "text": [
      "[0.57769766 0.69786557 0.68962943 0.21091495 0.54907255 0.63559724\n",
      " 0.45884698 0.65518455 0.61303293 0.58507978]\n",
      "0.5672921638321313\n"
     ]
    }
   ],
   "source": [
    "# Next predict the house price using cross-validated estimators which are the part of the Model selection: choosing estimators and their parameters.\n",
    "\n",
    "# Initiate Linear Regression Model\n",
    "regressor=LinearRegression()\n",
    "\n",
    "# Initiate cross validation score\n",
    "score= cross_val_score(regressor,X_train,y_train ,scoring= 'r2' ,cv=10)\n",
    "print(score)\n",
    "#calculate mean of the score\n",
    "mean_score = np.mean(score)\n",
    "\n",
    "# print mean score\n",
    "print(mean_score)"
   ]
  },
  {
   "cell_type": "markdown",
   "metadata": {},
   "source": [
    "#### As you can see that there is very less improvement(~1%), even after applying the regularization and cross-validation score, perform the prediction using a polynomial regressor to generate second-degree polynomial features. "
   ]
  },
  {
   "cell_type": "code",
   "execution_count": 10,
   "metadata": {},
   "outputs": [
    {
     "name": "stdout",
     "output_type": "stream",
     "text": [
      "0.6709784755252334\n"
     ]
    }
   ],
   "source": [
    "\n",
    "# make pipeline for second degree polynomialfeatures\n",
    "model = make_pipeline(PolynomialFeatures(2), LinearRegression())\n",
    "\n",
    "# Fit the model on training set\n",
    "model.fit(X_train, y_train)\n",
    "\n",
    "# predict the model performance\n",
    "y_pred = model.predict(X_val)\n",
    "\n",
    "# calculate r2 score\n",
    "r2_poly= r2_score(y_val,y_pred)\n",
    "\n",
    "# print r2 score\n",
    "print(r2)"
   ]
  },
  {
   "cell_type": "markdown",
   "metadata": {},
   "source": [
    "### Prediction on the test data and creating the sample submission file.\n",
    "\n",
    "- Load the test data and store the `Id` column in a separate variable.\n",
    "- Perform the same operations on the test data that you have performed on the train data.\n",
    "- Create the submission file as a `csv` file consisting of the `Id` column from the test data and your prediction as the second column."
   ]
  },
  {
   "cell_type": "code",
   "execution_count": 12,
   "metadata": {},
   "outputs": [
    {
     "name": "stdout",
     "output_type": "stream",
     "text": [
      "[ 720281.29016113  848086.6598587  1756154.25222015 ...  899637.51242828\n",
      " 2463530.90535736 1591481.11813354]\n"
     ]
    }
   ],
   "source": [
    "# Prediction on test data\n",
    "\n",
    "# Read the test data\n",
    "test = pd.read_csv(r'/Users/rahulkosamkar/Documents/Data_Science/Projects/move_to melbourne_ML_regularization/test.csv')\n",
    "\n",
    "# Storing the id from the test file\n",
    "id_ = test['Id']\n",
    "\n",
    "# Applying the same transformation on test data\n",
    "test.drop('Id',axis=1,inplace=True)\n",
    "\n",
    "# Predict on the test data using the best model\n",
    "y_pred_test = model.predict(test)\n",
    "print(y_pred_test)\n",
    "\n",
    "# Create a sample submission file\n",
    "sample_submission = pd.DataFrame({'Id':id_,'Price':y_pred_test})\n",
    "\n",
    "# Convert the sample submission file into a csv file\n",
    "sample_submission.to_csv('sample_submission1.csv',index=False)"
   ]
  },
  {
   "cell_type": "code",
   "execution_count": null,
   "metadata": {},
   "outputs": [],
   "source": []
  }
 ],
 "metadata": {
  "kernelspec": {
   "display_name": "Python 3",
   "language": "python",
   "name": "python3"
  },
  "language_info": {
   "codemirror_mode": {
    "name": "ipython",
    "version": 3
   },
   "file_extension": ".py",
   "mimetype": "text/x-python",
   "name": "python",
   "nbconvert_exporter": "python",
   "pygments_lexer": "ipython3",
   "version": "3.8.5"
  }
 },
 "nbformat": 4,
 "nbformat_minor": 2
}
